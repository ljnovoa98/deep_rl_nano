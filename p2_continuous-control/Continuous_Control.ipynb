{
 "cells": [
  {
   "cell_type": "markdown",
   "metadata": {},
   "source": [
    "# Continuous Control\n",
    "\n",
    "---\n",
    "\n",
    "In this notebook, you will learn how to use the Unity ML-Agents environment for the second project of the [Deep Reinforcement Learning Nanodegree](https://www.udacity.com/course/deep-reinforcement-learning-nanodegree--nd893) program.\n",
    "\n",
    "### 1. Start the Environment\n",
    "\n",
    "We begin by importing the necessary packages.  If the code cell below returns an error, please revisit the project instructions to double-check that you have installed [Unity ML-Agents](https://github.com/Unity-Technologies/ml-agents/blob/master/docs/Installation.md) and [NumPy](http://www.numpy.org/)."
   ]
  },
  {
   "cell_type": "code",
   "execution_count": 1,
   "metadata": {},
   "outputs": [],
   "source": [
    "import time\n",
    "from unityagents import UnityEnvironment\n",
    "import numpy as np\n",
    "\n",
    "# Record the start time\n",
    "start_time = time.time()"
   ]
  },
  {
   "cell_type": "markdown",
   "metadata": {},
   "source": [
    "Next, we will start the environment!  **_Before running the code cell below_**, change the `file_name` parameter to match the location of the Unity environment that you downloaded.\n",
    "\n",
    "- **Mac**: `\"path/to/Reacher.app\"`\n",
    "- **Windows** (x86): `\"path/to/Reacher_Windows_x86/Reacher.exe\"`\n",
    "- **Windows** (x86_64): `\"path/to/Reacher_Windows_x86_64/Reacher.exe\"`\n",
    "- **Linux** (x86): `\"path/to/Reacher_Linux/Reacher.x86\"`\n",
    "- **Linux** (x86_64): `\"path/to/Reacher_Linux/Reacher.x86_64\"`\n",
    "- **Linux** (x86, headless): `\"path/to/Reacher_Linux_NoVis/Reacher.x86\"`\n",
    "- **Linux** (x86_64, headless): `\"path/to/Reacher_Linux_NoVis/Reacher.x86_64\"`\n",
    "\n",
    "For instance, if you are using a Mac, then you downloaded `Reacher.app`.  If this file is in the same folder as the notebook, then the line below should appear as follows:\n",
    "```\n",
    "env = UnityEnvironment(file_name=\"Reacher.app\")\n",
    "```"
   ]
  },
  {
   "cell_type": "code",
   "execution_count": 2,
   "metadata": {},
   "outputs": [
    {
     "name": "stderr",
     "output_type": "stream",
     "text": [
      "INFO:unityagents:\n",
      "'Academy' started successfully!\n",
      "Unity Academy name: Academy\n",
      "        Number of Brains: 1\n",
      "        Number of External Brains : 1\n",
      "        Lesson number : 0\n",
      "        Reset Parameters :\n",
      "\t\tgoal_speed -> 1.0\n",
      "\t\tgoal_size -> 5.0\n",
      "Unity brain name: ReacherBrain\n",
      "        Number of Visual Observations (per agent): 0\n",
      "        Vector Observation space type: continuous\n",
      "        Vector Observation space size (per agent): 33\n",
      "        Number of stacked Vector Observation: 1\n",
      "        Vector Action space type: continuous\n",
      "        Vector Action space size (per agent): 4\n",
      "        Vector Action descriptions: , , , \n"
     ]
    }
   ],
   "source": [
    "use_single_reacher = False\n",
    "\n",
    "if (use_single_reacher):\n",
    "    exe_path = 'Single_Reacher/Reacher.exe'\n",
    "else:\n",
    "    exe_path = 'Multi_Reacher/Reacher.exe'\n",
    "env = UnityEnvironment(file_name=exe_path)"
   ]
  },
  {
   "cell_type": "markdown",
   "metadata": {},
   "source": [
    "Environments contain **_brains_** which are responsible for deciding the actions of their associated agents. Here we check for the first brain available, and set it as the default brain we will be controlling from Python."
   ]
  },
  {
   "cell_type": "code",
   "execution_count": 3,
   "metadata": {},
   "outputs": [],
   "source": [
    "# get the default brain\n",
    "brain_name = env.brain_names[0]\n",
    "brain = env.brains[brain_name]"
   ]
  },
  {
   "cell_type": "markdown",
   "metadata": {},
   "source": [
    "### 2. Examine the State and Action Spaces\n",
    "\n",
    "In this environment, a double-jointed arm can move to target locations. A reward of `+0.1` is provided for each step that the agent's hand is in the goal location. Thus, the goal of your agent is to maintain its position at the target location for as many time steps as possible.\n",
    "\n",
    "The observation space consists of `33` variables corresponding to position, rotation, velocity, and angular velocities of the arm.  Each action is a vector with four numbers, corresponding to torque applicable to two joints.  Every entry in the action vector must be a number between `-1` and `1`.\n",
    "\n",
    "Run the code cell below to print some information about the environment."
   ]
  },
  {
   "cell_type": "code",
   "execution_count": 4,
   "metadata": {},
   "outputs": [
    {
     "name": "stdout",
     "output_type": "stream",
     "text": [
      "Number of agents: 20\n",
      "Size of each action: 4\n",
      "There are 20 agents. Each observes a state with length: 33\n",
      "The state for the first agent looks like: [ 0.00000000e+00 -4.00000000e+00  0.00000000e+00  1.00000000e+00\n",
      " -0.00000000e+00 -0.00000000e+00 -4.37113883e-08  0.00000000e+00\n",
      "  0.00000000e+00  0.00000000e+00  0.00000000e+00  0.00000000e+00\n",
      "  0.00000000e+00  0.00000000e+00 -1.00000000e+01  0.00000000e+00\n",
      "  1.00000000e+00 -0.00000000e+00 -0.00000000e+00 -4.37113883e-08\n",
      "  0.00000000e+00  0.00000000e+00  0.00000000e+00  0.00000000e+00\n",
      "  0.00000000e+00  0.00000000e+00  5.75471878e+00 -1.00000000e+00\n",
      "  5.55726624e+00  0.00000000e+00  1.00000000e+00  0.00000000e+00\n",
      " -1.68164849e-01]\n"
     ]
    }
   ],
   "source": [
    "# reset the environment\n",
    "env_info = env.reset(train_mode=True)[brain_name]\n",
    "\n",
    "# number of agents\n",
    "num_agents = len(env_info.agents)\n",
    "print('Number of agents:', num_agents)\n",
    "\n",
    "# size of each action\n",
    "action_size = brain.vector_action_space_size\n",
    "print('Size of each action:', action_size)\n",
    "\n",
    "# examine the state space \n",
    "states = env_info.vector_observations\n",
    "state_size = states.shape[1]\n",
    "print('There are {} agents. Each observes a state with length: {}'.format(states.shape[0], state_size))\n",
    "print('The state for the first agent looks like:', states[0])"
   ]
  },
  {
   "cell_type": "markdown",
   "metadata": {},
   "source": [
    "### 3. Take Random Actions in the Environment\n",
    "\n",
    "In the next code cell, you will learn how to use the Python API to control the agent and receive feedback from the environment.\n",
    "\n",
    "Once this cell is executed, you will watch the agent's performance, if it selects an action at random with each time step.  A window should pop up that allows you to observe the agent, as it moves through the environment.  \n",
    "\n",
    "Of course, as part of the project, you'll have to change the code so that the agent is able to use its experience to gradually choose better actions when interacting with the environment!"
   ]
  },
  {
   "cell_type": "code",
   "execution_count": 5,
   "metadata": {},
   "outputs": [
    {
     "name": "stdout",
     "output_type": "stream",
     "text": [
      "Total score (averaged over agents) this episode: 0.1599999964237213\n"
     ]
    }
   ],
   "source": [
    "env_info = env.reset(train_mode=False)[brain_name]     # reset the environment    \n",
    "states = env_info.vector_observations                  # get the current state (for each agent)\n",
    "scores = np.zeros(num_agents)                          # initialize the score (for each agent)\n",
    "while True:\n",
    "    actions = np.random.randn(num_agents, action_size) # select an action (for each agent)\n",
    "    actions = np.clip(actions, -1, 1)                  # all actions between -1 and 1\n",
    "    env_info = env.step(actions)[brain_name]           # send all actions to tne environment\n",
    "    next_states = env_info.vector_observations         # get next state (for each agent)\n",
    "    rewards = env_info.rewards                         # get reward (for each agent)\n",
    "    dones = env_info.local_done                        # see if episode finished\n",
    "    scores += env_info.rewards                         # update the score (for each agent)\n",
    "    states = next_states                               # roll over states to next time step\n",
    "    if np.any(dones):                                  # exit loop if episode finished\n",
    "        break\n",
    "print('Total score (averaged over agents) this episode: {}'.format(np.mean(scores)))"
   ]
  },
  {
   "cell_type": "markdown",
   "metadata": {},
   "source": [
    "### 4. Train the Agent with DDPG\n",
    "\n",
    "Train the agent by running the code cells below! Objective of the training is to achieve an average score of 30 for the last 100 consecutive episodes. Once this is achieved the agent will be saved as a solution_actor.pth and a solution_critic.pth.\n",
    "Below are the tuning parameters used to achieve these results:\n",
    "```python\n",
    "BUFFER_SIZE = int(1e5)  # replay buffer size\n",
    "BATCH_SIZE = 128        # minibatch size\n",
    "GAMMA = 0.99            # discount factor\n",
    "TAU = 1e-3              # for soft update of target parameters\n",
    "LR_ACTOR = 1e-4         # learning rate of the actor \n",
    "LR_CRITIC = 3e-4        # learning rate of the critic\n",
    "WEIGHT_DECAY = 0.0      # L2 weight decay\n",
    "```"
   ]
  },
  {
   "cell_type": "code",
   "execution_count": 6,
   "metadata": {},
   "outputs": [],
   "source": [
    "from collections import deque\n",
    "from ddpg_agent import Agent\n",
    "import matplotlib.pyplot as plt\n",
    "import torch"
   ]
  },
  {
   "cell_type": "code",
   "execution_count": 7,
   "metadata": {},
   "outputs": [],
   "source": [
    "# Define function for training using DDPG agent with reacher environments\n",
    "def ddpg(n_episodes=500, max_t=1000):\n",
    "    scores_deque = deque(maxlen=100)\n",
    "    scores = []\n",
    "    max_score = -np.Inf\n",
    "    for i_episode in range(1, n_episodes+1):\n",
    "        env_info = env.reset(train_mode=True)[brain_name]     # reset the environment    \n",
    "        states = env_info.vector_observations                 # get the current state (for each agent)\n",
    "        agent.reset()\n",
    "        score = np.zeros(num_agents)                          # initialize the score (for each agent)\n",
    "\n",
    "        for t in range(max_t):\n",
    "            actions = agent.act(states)                        # select an action (for each agent)\n",
    "            env_info = env.step(actions)[brain_name]           # send all actions to the environment\n",
    "            next_states = env_info.vector_observations         # get next state (for each agent)\n",
    "            rewards = env_info.rewards                         # get reward (for each agent)\n",
    "            dones = env_info.local_done                        # see if episode finished\n",
    "            score += rewards                                   # update the score (for each agent)\n",
    "            agent.step(states, actions, rewards, next_states, dones) # update the agent\n",
    "            states = next_states                               # roll over states to next time step\n",
    "            if np.any(dones):                                  # exit loop if episode finished\n",
    "                break\n",
    "        # Compute mean score if using 20 reacher environment\n",
    "        mean_score = np.mean(score)\n",
    "        scores_deque.append(mean_score)\n",
    "        scores.append(mean_score)\n",
    "        # Print out performance after each episode\n",
    "        print('\\rEpisode {}\\tAverage Score: {:.2f}'.format(i_episode, np.mean(scores_deque)), end=\"\")\n",
    "        # Permanently print out average and save agent checkpoint every 100 episodes\n",
    "        if i_episode % 100 == 0:\n",
    "            torch.save(agent.actor_local.state_dict(), 'checkpoint_actor.pth')\n",
    "            torch.save(agent.critic_local.state_dict(), 'checkpoint_critic.pth')\n",
    "            print('\\rEpisode {}\\tAverage Score: {:.2f}'.format(i_episode, np.mean(scores)))   \n",
    "        # Print out number of episodes required to achieve target score and save agent solution\n",
    "        if np.mean(scores_deque) >= 30:\n",
    "            print('\\nEnvironment solved in {:d} episodes.'.format(i_episode))\n",
    "            torch.save(agent.actor_local.state_dict(), 'solution_actor.pth')\n",
    "            torch.save(agent.critic_local.state_dict(), 'solution_critic.pth')\n",
    "            break\n",
    "    return scores"
   ]
  },
  {
   "cell_type": "code",
   "execution_count": 8,
   "metadata": {},
   "outputs": [
    {
     "name": "stderr",
     "output_type": "stream",
     "text": [
      "c:\\Users\\lench\\anaconda3\\envs\\drlnd\\lib\\site-packages\\torch\\nn\\functional.py:1795: UserWarning: nn.functional.tanh is deprecated. Use torch.tanh instead.\n",
      "  warnings.warn(\"nn.functional.tanh is deprecated. Use torch.tanh instead.\")\n"
     ]
    },
    {
     "name": "stdout",
     "output_type": "stream",
     "text": [
      "Episode 100\tAverage Score: 25.24\n",
      "Episode 113\tAverage Score: 30.18\n",
      "Environment solved in 113 episodes.\n"
     ]
    },
    {
     "data": {
      "image/png": "[encoded data removed]",
      "text/plain": [
       "<Figure size 432x288 with 1 Axes>"
      ]
     },
     "metadata": {
      "needs_background": "light"
     },
     "output_type": "display_data"
    }
   ],
   "source": [
    "# Initialize DDPG agent and train agent\n",
    "agent = Agent(num_agents=num_agents, state_size=states.shape[1], action_size=brain.vector_action_space_size, random_seed=10)\n",
    "scores = ddpg()\n",
    "\n",
    "# Plot Score vs Episode from training data\n",
    "fig = plt.figure()\n",
    "ax = fig.add_subplot(111)\n",
    "plt.plot(np.arange(1, len(scores)+1), scores)\n",
    "plt.ylabel('Score')\n",
    "plt.xlabel('Episode #')\n",
    "if use_single_reacher:\n",
    "    plt.savefig('single_reacher_training.png')\n",
    "else:\n",
    "    plt.savefig('multi_reacher_training.png')\n",
    "plt.show()"
   ]
  },
  {
   "cell_type": "markdown",
   "metadata": {},
   "source": [
    "### 4. Test the Agent\n",
    "\n",
    "Test the agent by running the code cells below! Objective of the testing is to ensure the agent can achieve an average score of 30 over 100 consecutive episodes. The plot produced will show the training scores for each episode and a line representing the average over the 100 episodes."
   ]
  },
  {
   "cell_type": "code",
   "execution_count": 9,
   "metadata": {},
   "outputs": [],
   "source": [
    "# Define function for testing agent with reacher environments\n",
    "def test(episodes=100):\n",
    "    # Load agent solution\n",
    "    agent.actor_local.load_state_dict(torch.load('solution_actor.pth'))\n",
    "    agent.critic_local.load_state_dict(torch.load('solution_critic.pth'))\n",
    "\n",
    "    scores = []\n",
    "\n",
    "    for i_episode in range(1, episodes+1):\n",
    "        env_info = env.reset(train_mode=False)[brain_name]     # reset the environment    \n",
    "        states = env_info.vector_observations                  # get the current state (for each agent)\n",
    "        agent.reset()\n",
    "        score = np.zeros(num_agents)                          # initialize the score (for each agent)\n",
    "\n",
    "        while True:\n",
    "            actions = agent.act(states)                        # select an action (for each agent)\n",
    "            env_info = env.step(actions)[brain_name]           # send all actions to the environment\n",
    "            next_states = env_info.vector_observations         # get next state (for each agent)\n",
    "            rewards = env_info.rewards                         # get reward (for each agent)\n",
    "            dones = env_info.local_done                        # see if episode finished\n",
    "            score += rewards                                   # update the score (for each agent)\n",
    "            states = next_states                               # roll over states to next time step\n",
    "\n",
    "            if any(dones):\n",
    "                break\n",
    "\n",
    "        mean_score = np.mean(score)\n",
    "        scores.append(mean_score)\n",
    "        # Print out Score for each testing episode\n",
    "        print('\\rEpisode {}\\tAverage Score: {:.2f}'.format(i_episode, mean_score))\n",
    "\n",
    "    # Compute the overall mean score from testing and print out resutls\n",
    "    overall_mean = np.mean(scores)\n",
    "    print('\\nAverage Score {:.2f} Episodes: {:.2f}'.format(overall_mean, i_episode))\n",
    "            \n",
    "    return scores"
   ]
  },
  {
   "cell_type": "code",
   "execution_count": 10,
   "metadata": {},
   "outputs": [
    {
     "name": "stderr",
     "output_type": "stream",
     "text": [
      "c:\\Users\\lench\\anaconda3\\envs\\drlnd\\lib\\site-packages\\torch\\nn\\functional.py:1795: UserWarning: nn.functional.tanh is deprecated. Use torch.tanh instead.\n",
      "  warnings.warn(\"nn.functional.tanh is deprecated. Use torch.tanh instead.\")\n"
     ]
    },
    {
     "name": "stdout",
     "output_type": "stream",
     "text": [
      "Episode 1\tAverage Score: 38.17\n",
      "Episode 2\tAverage Score: 37.85\n",
      "Episode 3\tAverage Score: 38.45\n",
      "Episode 4\tAverage Score: 37.68\n",
      "Episode 5\tAverage Score: 38.15\n",
      "Episode 6\tAverage Score: 37.65\n",
      "Episode 7\tAverage Score: 37.62\n",
      "Episode 8\tAverage Score: 37.89\n",
      "Episode 9\tAverage Score: 37.87\n",
      "Episode 10\tAverage Score: 37.49\n",
      "Episode 11\tAverage Score: 37.95\n",
      "Episode 12\tAverage Score: 38.01\n",
      "Episode 13\tAverage Score: 38.04\n",
      "Episode 14\tAverage Score: 38.15\n",
      "Episode 15\tAverage Score: 38.15\n",
      "Episode 16\tAverage Score: 37.88\n",
      "Episode 17\tAverage Score: 37.91\n",
      "Episode 18\tAverage Score: 36.93\n",
      "Episode 19\tAverage Score: 37.61\n",
      "Episode 20\tAverage Score: 38.05\n",
      "Episode 21\tAverage Score: 37.98\n",
      "Episode 22\tAverage Score: 37.99\n",
      "Episode 23\tAverage Score: 38.05\n",
      "Episode 24\tAverage Score: 37.93\n",
      "Episode 25\tAverage Score: 37.83\n",
      "Episode 26\tAverage Score: 38.16\n",
      "Episode 27\tAverage Score: 38.04\n",
      "Episode 28\tAverage Score: 38.56\n",
      "Episode 29\tAverage Score: 37.77\n",
      "Episode 30\tAverage Score: 37.90\n",
      "Episode 31\tAverage Score: 37.60\n",
      "Episode 32\tAverage Score: 38.30\n",
      "Episode 33\tAverage Score: 37.37\n",
      "Episode 34\tAverage Score: 37.83\n",
      "Episode 35\tAverage Score: 37.91\n",
      "Episode 36\tAverage Score: 37.98\n",
      "Episode 37\tAverage Score: 37.57\n",
      "Episode 38\tAverage Score: 37.61\n",
      "Episode 39\tAverage Score: 38.42\n",
      "Episode 40\tAverage Score: 38.02\n",
      "Episode 41\tAverage Score: 38.43\n",
      "Episode 42\tAverage Score: 38.24\n",
      "Episode 43\tAverage Score: 37.97\n",
      "Episode 44\tAverage Score: 38.09\n",
      "Episode 45\tAverage Score: 37.97\n",
      "Episode 46\tAverage Score: 37.60\n",
      "Episode 47\tAverage Score: 38.12\n",
      "Episode 48\tAverage Score: 37.83\n",
      "Episode 49\tAverage Score: 38.10\n",
      "Episode 50\tAverage Score: 37.20\n",
      "Episode 51\tAverage Score: 37.91\n",
      "Episode 52\tAverage Score: 37.74\n",
      "Episode 53\tAverage Score: 38.37\n",
      "Episode 54\tAverage Score: 38.41\n",
      "Episode 55\tAverage Score: 38.01\n",
      "Episode 56\tAverage Score: 38.22\n",
      "Episode 57\tAverage Score: 38.07\n",
      "Episode 58\tAverage Score: 38.22\n",
      "Episode 59\tAverage Score: 37.95\n",
      "Episode 60\tAverage Score: 37.98\n",
      "Episode 61\tAverage Score: 37.71\n",
      "Episode 62\tAverage Score: 37.75\n",
      "Episode 63\tAverage Score: 37.66\n",
      "Episode 64\tAverage Score: 38.56\n",
      "Episode 65\tAverage Score: 38.34\n",
      "Episode 66\tAverage Score: 37.53\n",
      "Episode 67\tAverage Score: 37.84\n",
      "Episode 68\tAverage Score: 38.06\n",
      "Episode 69\tAverage Score: 37.69\n",
      "Episode 70\tAverage Score: 37.64\n",
      "Episode 71\tAverage Score: 37.97\n",
      "Episode 72\tAverage Score: 38.00\n",
      "Episode 73\tAverage Score: 37.85\n",
      "Episode 74\tAverage Score: 38.02\n",
      "Episode 75\tAverage Score: 38.25\n",
      "Episode 76\tAverage Score: 37.98\n",
      "Episode 77\tAverage Score: 38.00\n",
      "Episode 78\tAverage Score: 37.26\n",
      "Episode 79\tAverage Score: 38.22\n",
      "Episode 80\tAverage Score: 37.94\n",
      "Episode 81\tAverage Score: 37.86\n",
      "Episode 82\tAverage Score: 37.75\n",
      "Episode 83\tAverage Score: 38.20\n",
      "Episode 84\tAverage Score: 37.98\n",
      "Episode 85\tAverage Score: 37.72\n",
      "Episode 86\tAverage Score: 37.93\n",
      "Episode 87\tAverage Score: 37.48\n",
      "Episode 88\tAverage Score: 38.11\n",
      "Episode 89\tAverage Score: 37.84\n",
      "Episode 90\tAverage Score: 38.03\n",
      "Episode 91\tAverage Score: 38.19\n",
      "Episode 92\tAverage Score: 37.71\n",
      "Episode 93\tAverage Score: 38.21\n",
      "Episode 94\tAverage Score: 38.18\n",
      "Episode 95\tAverage Score: 37.96\n",
      "Episode 96\tAverage Score: 38.02\n",
      "Episode 97\tAverage Score: 37.62\n",
      "Episode 98\tAverage Score: 38.37\n",
      "Episode 99\tAverage Score: 37.10\n",
      "Episode 100\tAverage Score: 38.22\n",
      "\n",
      "Average Score 37.94 Episodes: 100.00\n"
     ]
    },
    {
     "data": {
      "image/png": "[encoded data removed]",
      "text/plain": [
       "<Figure size 432x288 with 1 Axes>"
      ]
     },
     "metadata": {
      "needs_background": "light"
     },
     "output_type": "display_data"
    }
   ],
   "source": [
    "# Initialize DDPG agent and test agent\n",
    "agent = Agent(num_agents=num_agents, state_size=states.shape[1], action_size=brain.vector_action_space_size, random_seed=10)\n",
    "scores = test()\n",
    "\n",
    "# Plot Score vs Episode for testing data with average score line\n",
    "fig = plt.figure()\n",
    "ax = fig.add_subplot(111)\n",
    "plt.plot(np.arange(1, len(scores)+1), scores)\n",
    "plt.axhline(np.mean(scores), color='r', linestyle='-.', label='Mean Score')\n",
    "plt.ylabel('Score')\n",
    "plt.xlabel('Episode #')\n",
    "# Save the plot to a file\n",
    "if use_single_reacher:\n",
    "    plt.savefig('single_reacher_testing.png')\n",
    "else:\n",
    "    plt.savefig('multi_reacher_testing.png')\n",
    "plt.show()"
   ]
  },
  {
   "cell_type": "code",
   "execution_count": 11,
   "metadata": {},
   "outputs": [
    {
     "name": "stdout",
     "output_type": "stream",
     "text": [
      "Elapsed time: 17436.42 seconds\n"
     ]
    }
   ],
   "source": [
    "# Close environment\n",
    "env.close()\n",
    "\n",
    "# Record the end time\n",
    "end_time = time.time()\n",
    "\n",
    "# Calculate and print the elapsed time to run this notebook\n",
    "elapsed_time = end_time - start_time\n",
    "print(f\"Elapsed time: {elapsed_time:.2f} seconds\")"
   ]
  }
 ],
 "metadata": {
  "kernelspec": {
   "display_name": "Python 3",
   "language": "python",
   "name": "python3"
  },
  "language_info": {
   "codemirror_mode": {
    "name": "ipython",
    "version": 3
   },
   "file_extension": ".py",
   "mimetype": "text/x-python",
   "name": "python",
   "nbconvert_exporter": "python",
   "pygments_lexer": "ipython3",
   "version": "3.6.13"
  }
 },
 "nbformat": 4,
 "nbformat_minor": 2
}
